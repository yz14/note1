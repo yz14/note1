{
 "cells": [
  {
   "cell_type": "markdown",
   "metadata": {},
   "source": [
    "# Lecture 24: Second-order optimization\n",
    "\n",
    "[EE227C course page](https://ee227c.github.io/)  \n",
    "[Download ipynb file](https://ee227c.github.io/code/lecture24.ipynb)\n",
    "\n",
    "Overview:\n",
    "\n",
    "* [Newton iteration](#newton)\n",
    "* [Logistic regression](#logistic)\n",
    "* [Newton with approximate least squares](#lsq)\n",
    "* [BFGS](#bfgs)\n",
    "* [Hessian-vector products](#hvprod)\n",
    "* [A more realistic example](#adult)"
   ]
  },
  {
   "cell_type": "code",
   "execution_count": 1,
   "metadata": {},
   "outputs": [
    {
     "data": {
      "text/html": [
       "<link href=\"https://fonts.googleapis.com/css?family=Inconsolata:700\" rel=\"stylesheet\">\n",
       "<link href=\"https://fonts.googleapis.com/css?family=Bree+Serif\" rel=\"stylesheet\">\n",
       "\n",
       "<style>\n",
       "div.text_cell_render p, \n",
       "div.text_cell_render li, \n",
       "div.text_cell_render ul \n",
       "{ \n",
       "    font-size:20pt;\n",
       "    line-height:28pt; \n",
       "    font-family: 'Bree Serif', monospace;\n",
       "    text-align: justify;\n",
       "}\n",
       ".CodeMirror pre, .inner_cell pre, pre {\n",
       "    line-height:26pt;\n",
       "    font-size:20pt; \n",
       "    font-family: 'Inconsolata', monospace;\n",
       "}\n",
       "div.output_subarea {font-size:18pt;}\n",
       "div.text_cell_render h1 {\n",
       "    background-color:#ebf5fb;\n",
       "    line-height: 48pt;\n",
       "    font-size: 36pt;\n",
       "    color:#222;\n",
       "    text-align:center;\n",
       "}\n",
       "div.text_cell_render h2 {\n",
       "    background-color:#ebf5fb;\n",
       "    font-size: 30pt;\n",
       "    line-height: 48pt;\n",
       "    text-align:center;\n",
       "}\n",
       "div.text_cell_render h3 {\n",
       "    background-color:#ebf5fb;\n",
       "    font-size: 24pt;\n",
       "}\n",
       "div.text_cell_render h4 {\n",
       "    background-color:#ebf5fb;\n",
       "    font-size: 22pt;\n",
       "}\n",
       "</style>\n"
      ],
      "text/plain": [
       "<IPython.core.display.HTML object>"
      ]
     },
     "metadata": {},
     "output_type": "display_data"
    }
   ],
   "source": [
    "%matplotlib inline\n",
    "\n",
    "import numpy as np\n",
    "import matplotlib\n",
    "import matplotlib.pyplot as plt\n",
    "import sklearn.linear_model as linear_model\n",
    "\n",
    "np.random.seed(1337)\n",
    "from timeit import timeit\n",
    "\n",
    "from optimizers import gradient_descent, gss\n",
    "from plotters import error_plot, convergence_plot, kwargs, setup_layout\n",
    "\n",
    "setup_layout()"
   ]
  },
  {
   "cell_type": "markdown",
   "metadata": {},
   "source": [
    "<a name=\"newton\"></a>\n",
    "\n",
    "## Newton iteration\n",
    "\n",
    "Below is a naive implementation of Newton's iteration that we analyzed in the last lecture."
   ]
  },
  {
   "cell_type": "code",
   "execution_count": 2,
   "metadata": {
    "collapsed": true
   },
   "outputs": [],
   "source": [
    "def newton_method(init, steps, grad, hessian, num_to_keep=None):\n",
    "    \"\"\"Newton iteration with full Hessian inverse.\n",
    "    \n",
    "    Parameters\n",
    "    ----------\n",
    "        initial : array\n",
    "            starting point\n",
    "        steps : list of floats\n",
    "            step size schedule for the algorithm\n",
    "        grad : function\n",
    "            mapping arrays to arrays of same shape\n",
    "        hessian : function\n",
    "            mapping 1d arrays to 2d arrays\n",
    "        num_to_keep : integer, optional\n",
    "            number of points to keep\n",
    "        \n",
    "    Returns\n",
    "    -------\n",
    "        List of points computed by Newton iteration. Length of the\n",
    "        list is determined by `num_to_keep`.\n",
    "    \"\"\"\n",
    "    xs = [init]\n",
    "    for step in steps:\n",
    "        Hinv = np.linalg.pinv(hessian(xs[-1]))\n",
    "        xs.append(xs[-1] - step * Hinv.dot(grad(xs[-1])))\n",
    "        if num_to_keep:\n",
    "          xs = xs[-num_to_keep:]\n",
    "    return xs"
   ]
  },
  {
   "cell_type": "markdown",
   "metadata": {},
   "source": [
    "As a sanity check, Newton's method should solve a quadratic in one step. The same is true for least squares."
   ]
  },
  {
   "cell_type": "code",
   "execution_count": 3,
   "metadata": {
    "collapsed": true
   },
   "outputs": [],
   "source": [
    "def least_squares(A, b, x):\n",
    "    \"\"\"Least squares objective.\"\"\"\n",
    "    return (0.5/len(A)) * np.linalg.norm(A.dot(x)-b)**2\n",
    "\n",
    "def least_squares_gradient(A, b, x):\n",
    "    \"\"\"Gradient of least squares objective at x.\"\"\"\n",
    "    return A.T.dot(A.dot(x)-b)/len(A)\n",
    "\n",
    "def least_squares_hessian(A, x):\n",
    "    \"\"\"Hessian of least squares objective.\"\"\"\n",
    "    return A.T.dot(A)/len(A)"
   ]
  },
  {
   "cell_type": "code",
   "execution_count": 4,
   "metadata": {
    "collapsed": true
   },
   "outputs": [],
   "source": [
    "m, n = 1000, 100\n",
    "A = np.random.normal(0, 1, (m, n))\n",
    "x_opt = np.random.normal(0, 1, n)\n",
    "noise = np.random.normal(0, 0.1, m)\n",
    "b = A.dot(x_opt)\n",
    "objective = lambda x: least_squares(A, b, x)\n",
    "gradient = lambda x: least_squares_gradient(A, b, x)\n",
    "hessian = lambda x: least_squares_hessian(A, x)\n",
    "x0 = np.random.normal(0, 1, n)"
   ]
  },
  {
   "cell_type": "code",
   "execution_count": 5,
   "metadata": {
    "collapsed": true
   },
   "outputs": [],
   "source": [
    "xs = newton_method(x0, [1], gradient, hessian)\n",
    "errors = [objective(x) for x in xs]"
   ]
  },
  {
   "cell_type": "code",
   "execution_count": 6,
   "metadata": {},
   "outputs": [
    {
     "data": {
      "image/png": "[encoded data removed]",
      "text/plain": [
       "<matplotlib.figure.Figure at 0x7f328aa46990>"
      ]
     },
     "metadata": {},
     "output_type": "display_data"
    }
   ],
   "source": [
    "error_plot(errors)"
   ]
  },
  {
   "cell_type": "markdown",
   "metadata": {},
   "source": [
    "<a name=\"logistic\"></a>\n",
    "\n",
    "## Logistic regression"
   ]
  },
  {
   "cell_type": "markdown",
   "metadata": {},
   "source": [
    "Let's move on to a less trivial example that we'll stick to for the rest of the lecture: logistic regression. A logistic model makes predictions based on a sigmoid function applied to a linear function of the data."
   ]
  },
  {
   "cell_type": "code",
   "execution_count": 7,
   "metadata": {
    "collapsed": true
   },
   "outputs": [],
   "source": [
    "def sigmoid(x):\n",
    "    \"\"\"Sigmoid function.\"\"\"\n",
    "    return 1./(1.+np.exp(-x))"
   ]
  },
  {
   "cell_type": "code",
   "execution_count": 8,
   "metadata": {
    "scrolled": true
   },
   "outputs": [
    {
     "data": {
      "image/png": "[encoded data removed]",
      "text/plain": [
       "<matplotlib.figure.Figure at 0x7f3285ce5f50>"
      ]
     },
     "metadata": {},
     "output_type": "display_data"
    }
   ],
   "source": [
    "xs = np.linspace(-5, 5, 100)\n",
    "plt.plot(xs, sigmoid(xs), **kwargs);"
   ]
  },
  {
   "cell_type": "code",
   "execution_count": 9,
   "metadata": {
    "collapsed": true
   },
   "outputs": [],
   "source": [
    "def logistic_model(weights, data):\n",
    "    \"\"\"Logistic model.\"\"\"\n",
    "    return sigmoid(data.dot(weights))\n",
    "\n",
    "def log_likelihood(weights, data, labels):\n",
    "    \"\"\"Normalized negative log likelihood.\"\"\"\n",
    "    scores = np.dot(data, weights)\n",
    "    return -np.mean(labels*scores - np.log(1 + np.exp(scores)))\n",
    "\n",
    "def log_likelihood_gradient(weights, data, labels):\n",
    "    \"\"\"Gradient of negative log likelihood.\"\"\"\n",
    "    predictions = logistic_model(weights, data)  \n",
    "    return -data.T.dot(labels - predictions)/len(data)\n",
    "\n",
    "def log_likelihood_hessian(weights, data, labels):\n",
    "    \"\"\"Hessian of negative log likelihood.\"\"\"\n",
    "    predictions = logistic_model(weights, data)\n",
    "    diag = np.diag(predictions * (1 - predictions))\n",
    "    return data.T.dot(diag.dot(data))/len(data)"
   ]
  },
  {
   "cell_type": "code",
   "execution_count": 10,
   "metadata": {
    "collapsed": true
   },
   "outputs": [],
   "source": [
    "m, n = 1000, 100\n",
    "data = np.random.normal(0, 1, (m, n))\n",
    "wopt = np.random.normal(0, 1, n)\n",
    "labels = (data.dot(wopt) > 0).astype(np.float)\n",
    "gradient = lambda w: log_likelihood_gradient(w, data, labels)\n",
    "hessian = lambda w: log_likelihood_hessian(w, data, labels)\n",
    "init = np.zeros(n)"
   ]
  },
  {
   "cell_type": "markdown",
   "metadata": {},
   "source": [
    "Let's get a baseline solution out of sklearn's logistic model."
   ]
  },
  {
   "cell_type": "code",
   "execution_count": 11,
   "metadata": {},
   "outputs": [
    {
     "data": {
      "text/plain": [
       "0.052474218544034071"
      ]
     },
     "execution_count": 11,
     "metadata": {},
     "output_type": "execute_result"
    }
   ],
   "source": [
    "cls = linear_model.LogisticRegression()\n",
    "cls.fit(data, labels)\n",
    "weights = np.reshape(cls.coef_, cls.coef_.shape[1])\n",
    "baseline = log_likelihood(weights, data, labels)\n",
    "baseline"
   ]
  },
  {
   "cell_type": "code",
   "execution_count": 12,
   "metadata": {
    "collapsed": true
   },
   "outputs": [],
   "source": [
    "ws_gd = gradient_descent(init, np.ones(1000), gradient)\n",
    "ws_newton = newton_method(init, np.ones(10), gradient, hessian)"
   ]
  },
  {
   "cell_type": "code",
   "execution_count": 13,
   "metadata": {},
   "outputs": [
    {
     "data": {
      "image/png": "[encoded data removed]",
      "text/plain": [
       "<matplotlib.figure.Figure at 0x7f328aa469d0>"
      ]
     },
     "metadata": {},
     "output_type": "display_data"
    }
   ],
   "source": [
    "error_plot([log_likelihood(w, data, labels) for w in ws_gd])\n",
    "plt.plot(range(len(ws_gd)), [baseline]*len(ws_gd),\n",
    "        label='sklearn', **kwargs)\n",
    "_ = plt.legend()"
   ]
  },
  {
   "cell_type": "code",
   "execution_count": 14,
   "metadata": {},
   "outputs": [
    {
     "data": {
      "image/png": "[encoded data removed]",
      "text/plain": [
       "<matplotlib.figure.Figure at 0x7f3285fda850>"
      ]
     },
     "metadata": {},
     "output_type": "display_data"
    }
   ],
   "source": [
    "error_plot([log_likelihood(w, data, labels) for w in ws_newton])\n",
    "plt.plot(range(len(ws_newton)), [baseline]*len(ws_newton),\n",
    "        label='sklearn', **kwargs)\n",
    "plt.legend();"
   ]
  },
  {
   "cell_type": "markdown",
   "metadata": {},
   "source": [
    "<a name=\"lsq\"></a>\n",
    "\n",
    "## Speed-up via linear equations\n",
    "\n",
    "We'll now see how to speed up Newton's iteration with a simple trick. Instead of computing a full pseudo-inverse, we'll solve set of a linear equations approximately. Recall that the system $Hx=g$ has the solution $x=H^{-1}g$."
   ]
  },
  {
   "cell_type": "code",
   "execution_count": 15,
   "metadata": {
    "collapsed": true
   },
   "outputs": [],
   "source": [
    "def newton_method_lsq(init, steps, grad, hessian, least_squares, \n",
    "                     num_to_keep=None):\n",
    "    \"\"\"Newton iteration with least squares solver.\n",
    "    \n",
    "    Parameters\n",
    "    ----------\n",
    "        initial : array\n",
    "            starting point\n",
    "        steps : list of floats\n",
    "            step size schedule for the algorithm\n",
    "        grad : function\n",
    "            mapping arrays to arrays of same shape\n",
    "        hessian : function\n",
    "            mapping 1d arrays to 2d arrays\n",
    "        least_squares : function\n",
    "            solver for linear equations\n",
    "        num_to_keep : integer, optional\n",
    "            number of points to keep\n",
    "        \n",
    "    Returns\n",
    "    -------\n",
    "        List of points computed by Newton iteration. Length of the\n",
    "        list is determined by `num_to_keep`.\n",
    "    \"\"\"\n",
    "    xs = [init]\n",
    "    for step in steps:\n",
    "        # Use least squares solver for Hessian-gradient product\n",
    "        direction = least_squares(hessian(xs[-1]), grad(xs[-1]))\n",
    "        xs.append(xs[-1] - step * direction)\n",
    "        if num_to_keep:\n",
    "          xs = xs[-num_to_keep:]\n",
    "    return xs"
   ]
  },
  {
   "cell_type": "markdown",
   "metadata": {},
   "source": [
    "If we use a full least squares solve, this is just equivalent to the pseudo-inverse we had before. This why Newton's method for logistic regression is sometimes called **iteratively reweighted least squares**."
   ]
  },
  {
   "cell_type": "code",
   "execution_count": 16,
   "metadata": {},
   "outputs": [
    {
     "data": {
      "image/png": "[encoded data removed]",
      "text/plain": [
       "<matplotlib.figure.Figure at 0x7f328599c550>"
      ]
     },
     "metadata": {},
     "output_type": "display_data"
    }
   ],
   "source": [
    "lsq = lambda A, b: np.linalg.lstsq(A, b)[0]\n",
    "ws_newton_lsq = newton_method_lsq(init, np.ones(10), gradient, hessian, lsq)\n",
    "error_plot([log_likelihood(w, data, labels) for w in ws_newton_lsq])\n",
    "plt.plot(range(len(ws_newton_lsq)), [baseline]*len(ws_newton_lsq),\n",
    "        label='sklearn', **kwargs)\n",
    "_ = plt.legend()"
   ]
  },
  {
   "cell_type": "markdown",
   "metadata": {},
   "source": [
    "Let's plug in an approximate solver to see what happens. All the tools for linear equations we've seen in previous lectures (gradient descent, conjugate gradient etc.) could be used here. We'll just stick to gradient descent to keep it simple."
   ]
  },
  {
   "cell_type": "code",
   "execution_count": 17,
   "metadata": {},
   "outputs": [
    {
     "data": {
      "image/png": "[encoded data removed]",
      "text/plain": [
       "<matplotlib.figure.Figure at 0x7f32859576d0>"
      ]
     },
     "metadata": {},
     "output_type": "display_data"
    }
   ],
   "source": [
    "def lsq_gd(A, b):\n",
    "    \"\"\"Approximate least squares with gradient descent\"\"\"\n",
    "    gradient = lambda x: least_squares_gradient(A, b, x)\n",
    "    return gradient_descent(b, 1000*np.ones(10), gradient)[-1]\n",
    "\n",
    "ws_newton_lsq_gd = newton_method_lsq(init, np.ones(500), gradient, hessian, lsq_gd)\n",
    "error_plot([log_likelihood(w, data, labels) for w in ws_newton_lsq_gd])\n",
    "plt.plot(range(len(ws_newton_lsq_gd)), [baseline]*len(ws_newton_lsq_gd),\n",
    "        label='sklearn', **kwargs)\n",
    "_ = plt.legend()"
   ]
  },
  {
   "cell_type": "markdown",
   "metadata": {},
   "source": [
    "It looks like we didn't gain much compared with plain gradient descent. The number of iterations to reach the baseline got smaller, but each iteration is now costlier. Nonetheless, this idea gives rise to set of interesting heuristics."
   ]
  },
  {
   "cell_type": "markdown",
   "metadata": {},
   "source": [
    "<a name=\"bfgs\"></a>\n",
    "\n",
    "## BFGS"
   ]
  },
  {
   "cell_type": "code",
   "execution_count": 18,
   "metadata": {
    "collapsed": true
   },
   "outputs": [],
   "source": [
    "def bfgs(init, grad, hessian, line_search, num_steps, num_to_keep=None):\n",
    "    \"\"\"BFGS algorithm (toy implementation).\n",
    "    \n",
    "    Parameters\n",
    "    ----------\n",
    "        initial : array\n",
    "            starting point\n",
    "        grad : function\n",
    "            mapping arrays to arrays of same shape\n",
    "        hessian : function\n",
    "            mapping 1d arrays to 2d arrays\n",
    "        line_search : function\n",
    "            method to determine step size\n",
    "        num_steps : number\n",
    "            number of iterations\n",
    "        num_to_keep : integer, optional\n",
    "            number of points to keep\n",
    "        \n",
    "    Returns\n",
    "    -------\n",
    "        List of points computed by Newton iteration. Length of the\n",
    "        list is determined by `num_to_keep`.\n",
    "    \"\"\"\n",
    "    xs = [init]\n",
    "    I = np.eye(len(init))\n",
    "    Hs = [hessian(init)]\n",
    "    Hinvs = [I]\n",
    "    \n",
    "    for _ in range(num_steps):\n",
    "        # update point\n",
    "        direction = Hinvs[-1].dot(grad(xs[-1]))\n",
    "        step = line_search(xs[-1], direction)\n",
    "        xs.append(xs[-1] + step * direction)\n",
    "        \n",
    "        s = xs[-1] - xs[-2]\n",
    "        y = grad(xs[-1]) - grad(xs[-2])\n",
    "        ys = np.dot(y, s)\n",
    "        ssT = np.outer(s, s)\n",
    "        \n",
    "        # udpate H\n",
    "        H = Hs[-1] + np.outer(y, y)/ys\n",
    "        H -= Hs[-1].dot(ssT.dot(Hs[-1]))/np.dot(s, Hs[-1].dot(s))\n",
    "        Hs.append(H)\n",
    "        \n",
    "        # update Hinv\n",
    "        left = I - np.outer(s, y)/ys\n",
    "        right = I - np.outer(y, s)/ys\n",
    "        Hinvs.append(left.dot(Hinvs[-1]).dot(right) + ssT/ys)\n",
    "        \n",
    "        if num_to_keep:\n",
    "          xs = xs[-num_to_keep:]\n",
    "    \n",
    "    return xs"
   ]
  },
  {
   "cell_type": "markdown",
   "metadata": {},
   "source": [
    "Let's first try this out with a constant step size."
   ]
  },
  {
   "cell_type": "code",
   "execution_count": 19,
   "metadata": {},
   "outputs": [
    {
     "data": {
      "image/png": "[encoded data removed]",
      "text/plain": [
       "<matplotlib.figure.Figure at 0x7f328601e890>"
      ]
     },
     "metadata": {},
     "output_type": "display_data"
    }
   ],
   "source": [
    "def line_search(x, d):\n",
    "    \"\"\"Constant step size.\"\"\"\n",
    "    return -0.1\n",
    "\n",
    "ws_bfgs = bfgs(init, gradient, hessian, line_search, 100)\n",
    "error_plot([log_likelihood(w, data, labels) for w in ws_bfgs])\n",
    "plt.plot(range(len(ws_bfgs)), [baseline]*len(ws_bfgs),\n",
    "        label='sklearn', **kwargs)\n",
    "_ = plt.legend()"
   ]
  },
  {
   "cell_type": "markdown",
   "metadata": {},
   "source": [
    "Now find a clever step size using the golden section search algorithm we discussed in a previous lecture."
   ]
  },
  {
   "cell_type": "code",
   "execution_count": 20,
   "metadata": {},
   "outputs": [
    {
     "data": {
      "image/png": "[encoded data removed]",
      "text/plain": [
       "<matplotlib.figure.Figure at 0x7f3285b27f10>"
      ]
     },
     "metadata": {},
     "output_type": "display_data"
    }
   ],
   "source": [
    "def line_search(x, d):\n",
    "    return gss(lambda step: log_likelihood(x+step*d, data, labels), -1, 1)\n",
    "\n",
    "ws_bfgs = bfgs(init, gradient, hessian, line_search, 10)\n",
    "error_plot([log_likelihood(w, data, labels) for w in ws_bfgs])\n",
    "plt.plot(range(len(ws_bfgs)), [baseline]*len(ws_bfgs),\n",
    "        label='sklearn', **kwargs)\n",
    "_ = plt.legend()"
   ]
  },
  {
   "cell_type": "markdown",
   "metadata": {},
   "source": [
    "We see that BFGS with line search gets pretty close to Newton's method in iteration count, but each iteration is now much cheaper (in terms of the data dimension)."
   ]
  },
  {
   "cell_type": "markdown",
   "metadata": {},
   "source": [
    "<a name=\"hvprod\"></a>\n",
    "\n",
    "## Hessian-vector products"
   ]
  },
  {
   "cell_type": "markdown",
   "metadata": {},
   "source": [
    "Recall that we can implement the Hessian inverse (approximately or exactly) by just using Hessian vector products. This follows from the Krylov methods for solving linear equations.\n",
    "\n",
    "This raises the question how we can, in general, compute Hessian-vector products of possibly complicated functions for which we have no exact formula for the Hessian.\n",
    "\n",
    "Luckily, this problem is also solved by automatic differentiation. Let's import `autograd` first and define some function. For simplicity we'll reuse the log-likelihood we saw before."
   ]
  },
  {
   "cell_type": "code",
   "execution_count": 21,
   "metadata": {
    "collapsed": true
   },
   "outputs": [],
   "source": [
    "import autograd.numpy as np\n",
    "from autograd import grad\n",
    "\n",
    "np.random.seed(1337)"
   ]
  },
  {
   "cell_type": "code",
   "execution_count": 22,
   "metadata": {
    "collapsed": true
   },
   "outputs": [],
   "source": [
    "def log_likelihood(weights, data, labels):\n",
    "    \"\"\"Normalized negative log likelihood.\"\"\"\n",
    "    scores = np.dot(data, weights)\n",
    "    return -np.mean(labels*scores - np.log(1 + np.exp(scores)))"
   ]
  },
  {
   "cell_type": "code",
   "execution_count": 23,
   "metadata": {
    "collapsed": true
   },
   "outputs": [],
   "source": [
    "m, n = 1000, 100\n",
    "data = np.random.normal(0, 1, (m, n))\n",
    "wopt = np.random.normal(0, 1, n)\n",
    "labels = (data.dot(wopt) > 0).astype(np.float)"
   ]
  },
  {
   "cell_type": "markdown",
   "metadata": {},
   "source": [
    "Here's now how to get Hessian vector products with just two invocations of automatic differentiation."
   ]
  },
  {
   "cell_type": "code",
   "execution_count": 24,
   "metadata": {
    "collapsed": true
   },
   "outputs": [],
   "source": [
    "objective = lambda w: log_likelihood(w, data, labels)"
   ]
  },
  {
   "cell_type": "code",
   "execution_count": 25,
   "metadata": {
    "collapsed": true
   },
   "outputs": [],
   "source": [
    "vector = np.random.normal(0, 1, n)\n",
    "hvprod = grad(lambda x: np.dot(vector, grad(objective)(x)))"
   ]
  },
  {
   "cell_type": "markdown",
   "metadata": {},
   "source": [
    "Let's verify that `hvprod` correctly implements the product of the Hessian at a given point with `vector`."
   ]
  },
  {
   "cell_type": "code",
   "execution_count": 26,
   "metadata": {
    "collapsed": true
   },
   "outputs": [],
   "source": [
    "def log_likelihood_hessian(weights, data, labels):\n",
    "    \"\"\"Hessian of negative log likelihood.\"\"\"\n",
    "    predictions = logistic_model(weights, data)\n",
    "    diag = np.diag(predictions * (1 - predictions))\n",
    "    return data.T.dot(diag.dot(data))/len(data)"
   ]
  },
  {
   "cell_type": "code",
   "execution_count": 27,
   "metadata": {},
   "outputs": [
    {
     "data": {
      "text/plain": [
       "True"
      ]
     },
     "execution_count": 27,
     "metadata": {},
     "output_type": "execute_result"
    }
   ],
   "source": [
    "H = log_likelihood_hessian(wopt, data, labels)\n",
    "np.allclose(hvprod(wopt), H.dot(vector))"
   ]
  },
  {
   "cell_type": "markdown",
   "metadata": {},
   "source": [
    "<a name=\"adult\"></a>\n",
    "\n",
    "## Adult data set\n",
    "\n",
    "Let's see how this all plays out on a more realistic data set, the [UCI adult data set](https://archive.ics.uci.edu/ml/datasets/adult). We'll first preprocess the data in a standard way."
   ]
  },
  {
   "cell_type": "code",
   "execution_count": 28,
   "metadata": {
    "collapsed": true
   },
   "outputs": [],
   "source": [
    "import pandas as pd\n",
    "import sklearn as skl\n",
    "import sklearn.preprocessing as preprocessing\n",
    "import sklearn.linear_model as linear_model\n",
    "import sklearn.metrics as metrics\n",
    "import sklearn.tree as tree"
   ]
  },
  {
   "cell_type": "code",
   "execution_count": 29,
   "metadata": {
    "collapsed": true
   },
   "outputs": [],
   "source": [
    "features = [\"Age\", \"Workclass\", \"fnlwgt\", \"Education\", \"Education-Num\", \"Martial Status\",\n",
    "        \"Occupation\", \"Relationship\", \"Race\", \"Sex\", \"Capital Gain\", \"Capital Loss\",\n",
    "        \"Hours per week\", \"Country\", \"Target\"] \n",
    "\n",
    "# Source: https://archive.ics.uci.edu/ml/datasets/adult\n",
    "original_train = pd.read_csv(\"adult.data.txt\", names=features, sep=r'\\s*,\\s*', engine='python', na_values=\"?\")\n",
    "original_test = pd.read_csv(\"adult.test.txt\", names=features, sep=r'\\s*,\\s*', engine='python', na_values=\"?\", skiprows=1)\n",
    "\n",
    "num_train = len(original_train)\n",
    "original = pd.concat([original_train, original_test])\n",
    "labels = original['Target']\n",
    "labels = labels.replace('<=50K', 0).replace('>50K', 1)\n",
    "labels = labels.replace('<=50K.', 0).replace('>50K.', 1)\n",
    "\n",
    "# Redundant column\n",
    "del original[\"Education\"]\n",
    "del original[\"Target\"]\n",
    "\n",
    "def data_transform(df):\n",
    "    binary_data = pd.get_dummies(df)\n",
    "    feature_cols = binary_data[binary_data.columns[:-2]]\n",
    "    scaler = preprocessing.StandardScaler()\n",
    "    data = pd.DataFrame(scaler.fit_transform(feature_cols), columns=feature_cols.columns)\n",
    "    return data\n",
    "\n",
    "data = data_transform(original)\n",
    "train_data = data[:num_train]\n",
    "train_labels = labels[:num_train]\n",
    "test_data = data[num_train:]\n",
    "test_labels = labels[num_train:]"
   ]
  },
  {
   "cell_type": "code",
   "execution_count": 30,
   "metadata": {},
   "outputs": [
    {
     "data": {
      "text/plain": [
       "(32561, 16281)"
      ]
     },
     "execution_count": 30,
     "metadata": {},
     "output_type": "execute_result"
    }
   ],
   "source": [
    "len(train_data), len(test_data)"
   ]
  },
  {
   "cell_type": "code",
   "execution_count": 31,
   "metadata": {},
   "outputs": [
    {
     "data": {
      "text/html": [
       "<div>\n",
       "<style>\n",
       "    .dataframe thead tr:only-child th {\n",
       "        text-align: right;\n",
       "    }\n",
       "\n",
       "    .dataframe thead th {\n",
       "        text-align: left;\n",
       "    }\n",
       "\n",
       "    .dataframe tbody tr th {\n",
       "        vertical-align: top;\n",
       "    }\n",
       "</style>\n",
       "<table border=\"1\" class=\"dataframe\">\n",
       "  <thead>\n",
       "    <tr style=\"text-align: right;\">\n",
       "      <th></th>\n",
       "      <th>Age</th>\n",
       "      <th>Workclass</th>\n",
       "      <th>fnlwgt</th>\n",
       "      <th>Education-Num</th>\n",
       "      <th>Martial Status</th>\n",
       "      <th>Occupation</th>\n",
       "      <th>Relationship</th>\n",
       "      <th>Race</th>\n",
       "      <th>Sex</th>\n",
       "      <th>Capital Gain</th>\n",
       "      <th>Capital Loss</th>\n",
       "      <th>Hours per week</th>\n",
       "      <th>Country</th>\n",
       "    </tr>\n",
       "  </thead>\n",
       "  <tbody>\n",
       "    <tr>\n",
       "      <th>0</th>\n",
       "      <td>39</td>\n",
       "      <td>State-gov</td>\n",
       "      <td>77516</td>\n",
       "      <td>13</td>\n",
       "      <td>Never-married</td>\n",
       "      <td>Adm-clerical</td>\n",
       "      <td>Not-in-family</td>\n",
       "      <td>White</td>\n",
       "      <td>Male</td>\n",
       "      <td>2174</td>\n",
       "      <td>0</td>\n",
       "      <td>40</td>\n",
       "      <td>United-States</td>\n",
       "    </tr>\n",
       "    <tr>\n",
       "      <th>1</th>\n",
       "      <td>50</td>\n",
       "      <td>Self-emp-not-inc</td>\n",
       "      <td>83311</td>\n",
       "      <td>13</td>\n",
       "      <td>Married-civ-spouse</td>\n",
       "      <td>Exec-managerial</td>\n",
       "      <td>Husband</td>\n",
       "      <td>White</td>\n",
       "      <td>Male</td>\n",
       "      <td>0</td>\n",
       "      <td>0</td>\n",
       "      <td>13</td>\n",
       "      <td>United-States</td>\n",
       "    </tr>\n",
       "    <tr>\n",
       "      <th>2</th>\n",
       "      <td>38</td>\n",
       "      <td>Private</td>\n",
       "      <td>215646</td>\n",
       "      <td>9</td>\n",
       "      <td>Divorced</td>\n",
       "      <td>Handlers-cleaners</td>\n",
       "      <td>Not-in-family</td>\n",
       "      <td>White</td>\n",
       "      <td>Male</td>\n",
       "      <td>0</td>\n",
       "      <td>0</td>\n",
       "      <td>40</td>\n",
       "      <td>United-States</td>\n",
       "    </tr>\n",
       "    <tr>\n",
       "      <th>3</th>\n",
       "      <td>53</td>\n",
       "      <td>Private</td>\n",
       "      <td>234721</td>\n",
       "      <td>7</td>\n",
       "      <td>Married-civ-spouse</td>\n",
       "      <td>Handlers-cleaners</td>\n",
       "      <td>Husband</td>\n",
       "      <td>Black</td>\n",
       "      <td>Male</td>\n",
       "      <td>0</td>\n",
       "      <td>0</td>\n",
       "      <td>40</td>\n",
       "      <td>United-States</td>\n",
       "    </tr>\n",
       "    <tr>\n",
       "      <th>4</th>\n",
       "      <td>28</td>\n",
       "      <td>Private</td>\n",
       "      <td>338409</td>\n",
       "      <td>13</td>\n",
       "      <td>Married-civ-spouse</td>\n",
       "      <td>Prof-specialty</td>\n",
       "      <td>Wife</td>\n",
       "      <td>Black</td>\n",
       "      <td>Female</td>\n",
       "      <td>0</td>\n",
       "      <td>0</td>\n",
       "      <td>40</td>\n",
       "      <td>Cuba</td>\n",
       "    </tr>\n",
       "    <tr>\n",
       "      <th>5</th>\n",
       "      <td>37</td>\n",
       "      <td>Private</td>\n",
       "      <td>284582</td>\n",
       "      <td>14</td>\n",
       "      <td>Married-civ-spouse</td>\n",
       "      <td>Exec-managerial</td>\n",
       "      <td>Wife</td>\n",
       "      <td>White</td>\n",
       "      <td>Female</td>\n",
       "      <td>0</td>\n",
       "      <td>0</td>\n",
       "      <td>40</td>\n",
       "      <td>United-States</td>\n",
       "    </tr>\n",
       "    <tr>\n",
       "      <th>6</th>\n",
       "      <td>49</td>\n",
       "      <td>Private</td>\n",
       "      <td>160187</td>\n",
       "      <td>5</td>\n",
       "      <td>Married-spouse-absent</td>\n",
       "      <td>Other-service</td>\n",
       "      <td>Not-in-family</td>\n",
       "      <td>Black</td>\n",
       "      <td>Female</td>\n",
       "      <td>0</td>\n",
       "      <td>0</td>\n",
       "      <td>16</td>\n",
       "      <td>Jamaica</td>\n",
       "    </tr>\n",
       "    <tr>\n",
       "      <th>7</th>\n",
       "      <td>52</td>\n",
       "      <td>Self-emp-not-inc</td>\n",
       "      <td>209642</td>\n",
       "      <td>9</td>\n",
       "      <td>Married-civ-spouse</td>\n",
       "      <td>Exec-managerial</td>\n",
       "      <td>Husband</td>\n",
       "      <td>White</td>\n",
       "      <td>Male</td>\n",
       "      <td>0</td>\n",
       "      <td>0</td>\n",
       "      <td>45</td>\n",
       "      <td>United-States</td>\n",
       "    </tr>\n",
       "    <tr>\n",
       "      <th>8</th>\n",
       "      <td>31</td>\n",
       "      <td>Private</td>\n",
       "      <td>45781</td>\n",
       "      <td>14</td>\n",
       "      <td>Never-married</td>\n",
       "      <td>Prof-specialty</td>\n",
       "      <td>Not-in-family</td>\n",
       "      <td>White</td>\n",
       "      <td>Female</td>\n",
       "      <td>14084</td>\n",
       "      <td>0</td>\n",
       "      <td>50</td>\n",
       "      <td>United-States</td>\n",
       "    </tr>\n",
       "    <tr>\n",
       "      <th>9</th>\n",
       "      <td>42</td>\n",
       "      <td>Private</td>\n",
       "      <td>159449</td>\n",
       "      <td>13</td>\n",
       "      <td>Married-civ-spouse</td>\n",
       "      <td>Exec-managerial</td>\n",
       "      <td>Husband</td>\n",
       "      <td>White</td>\n",
       "      <td>Male</td>\n",
       "      <td>5178</td>\n",
       "      <td>0</td>\n",
       "      <td>40</td>\n",
       "      <td>United-States</td>\n",
       "    </tr>\n",
       "    <tr>\n",
       "      <th>10</th>\n",
       "      <td>37</td>\n",
       "      <td>Private</td>\n",
       "      <td>280464</td>\n",
       "      <td>10</td>\n",
       "      <td>Married-civ-spouse</td>\n",
       "      <td>Exec-managerial</td>\n",
       "      <td>Husband</td>\n",
       "      <td>Black</td>\n",
       "      <td>Male</td>\n",
       "      <td>0</td>\n",
       "      <td>0</td>\n",
       "      <td>80</td>\n",
       "      <td>United-States</td>\n",
       "    </tr>\n",
       "    <tr>\n",
       "      <th>11</th>\n",
       "      <td>30</td>\n",
       "      <td>State-gov</td>\n",
       "      <td>141297</td>\n",
       "      <td>13</td>\n",
       "      <td>Married-civ-spouse</td>\n",
       "      <td>Prof-specialty</td>\n",
       "      <td>Husband</td>\n",
       "      <td>Asian-Pac-Islander</td>\n",
       "      <td>Male</td>\n",
       "      <td>0</td>\n",
       "      <td>0</td>\n",
       "      <td>40</td>\n",
       "      <td>India</td>\n",
       "    </tr>\n",
       "    <tr>\n",
       "      <th>12</th>\n",
       "      <td>23</td>\n",
       "      <td>Private</td>\n",
       "      <td>122272</td>\n",
       "      <td>13</td>\n",
       "      <td>Never-married</td>\n",
       "      <td>Adm-clerical</td>\n",
       "      <td>Own-child</td>\n",
       "      <td>White</td>\n",
       "      <td>Female</td>\n",
       "      <td>0</td>\n",
       "      <td>0</td>\n",
       "      <td>30</td>\n",
       "      <td>United-States</td>\n",
       "    </tr>\n",
       "    <tr>\n",
       "      <th>13</th>\n",
       "      <td>32</td>\n",
       "      <td>Private</td>\n",
       "      <td>205019</td>\n",
       "      <td>12</td>\n",
       "      <td>Never-married</td>\n",
       "      <td>Sales</td>\n",
       "      <td>Not-in-family</td>\n",
       "      <td>Black</td>\n",
       "      <td>Male</td>\n",
       "      <td>0</td>\n",
       "      <td>0</td>\n",
       "      <td>50</td>\n",
       "      <td>United-States</td>\n",
       "    </tr>\n",
       "    <tr>\n",
       "      <th>14</th>\n",
       "      <td>40</td>\n",
       "      <td>Private</td>\n",
       "      <td>121772</td>\n",
       "      <td>11</td>\n",
       "      <td>Married-civ-spouse</td>\n",
       "      <td>Craft-repair</td>\n",
       "      <td>Husband</td>\n",
       "      <td>Asian-Pac-Islander</td>\n",
       "      <td>Male</td>\n",
       "      <td>0</td>\n",
       "      <td>0</td>\n",
       "      <td>40</td>\n",
       "      <td>NaN</td>\n",
       "    </tr>\n",
       "    <tr>\n",
       "      <th>15</th>\n",
       "      <td>34</td>\n",
       "      <td>Private</td>\n",
       "      <td>245487</td>\n",
       "      <td>4</td>\n",
       "      <td>Married-civ-spouse</td>\n",
       "      <td>Transport-moving</td>\n",
       "      <td>Husband</td>\n",
       "      <td>Amer-Indian-Eskimo</td>\n",
       "      <td>Male</td>\n",
       "      <td>0</td>\n",
       "      <td>0</td>\n",
       "      <td>45</td>\n",
       "      <td>Mexico</td>\n",
       "    </tr>\n",
       "    <tr>\n",
       "      <th>16</th>\n",
       "      <td>25</td>\n",
       "      <td>Self-emp-not-inc</td>\n",
       "      <td>176756</td>\n",
       "      <td>9</td>\n",
       "      <td>Never-married</td>\n",
       "      <td>Farming-fishing</td>\n",
       "      <td>Own-child</td>\n",
       "      <td>White</td>\n",
       "      <td>Male</td>\n",
       "      <td>0</td>\n",
       "      <td>0</td>\n",
       "      <td>35</td>\n",
       "      <td>United-States</td>\n",
       "    </tr>\n",
       "    <tr>\n",
       "      <th>17</th>\n",
       "      <td>32</td>\n",
       "      <td>Private</td>\n",
       "      <td>186824</td>\n",
       "      <td>9</td>\n",
       "      <td>Never-married</td>\n",
       "      <td>Machine-op-inspct</td>\n",
       "      <td>Unmarried</td>\n",
       "      <td>White</td>\n",
       "      <td>Male</td>\n",
       "      <td>0</td>\n",
       "      <td>0</td>\n",
       "      <td>40</td>\n",
       "      <td>United-States</td>\n",
       "    </tr>\n",
       "    <tr>\n",
       "      <th>18</th>\n",
       "      <td>38</td>\n",
       "      <td>Private</td>\n",
       "      <td>28887</td>\n",
       "      <td>7</td>\n",
       "      <td>Married-civ-spouse</td>\n",
       "      <td>Sales</td>\n",
       "      <td>Husband</td>\n",
       "      <td>White</td>\n",
       "      <td>Male</td>\n",
       "      <td>0</td>\n",
       "      <td>0</td>\n",
       "      <td>50</td>\n",
       "      <td>United-States</td>\n",
       "    </tr>\n",
       "    <tr>\n",
       "      <th>19</th>\n",
       "      <td>43</td>\n",
       "      <td>Self-emp-not-inc</td>\n",
       "      <td>292175</td>\n",
       "      <td>14</td>\n",
       "      <td>Divorced</td>\n",
       "      <td>Exec-managerial</td>\n",
       "      <td>Unmarried</td>\n",
       "      <td>White</td>\n",
       "      <td>Female</td>\n",
       "      <td>0</td>\n",
       "      <td>0</td>\n",
       "      <td>45</td>\n",
       "      <td>United-States</td>\n",
       "    </tr>\n",
       "    <tr>\n",
       "      <th>20</th>\n",
       "      <td>40</td>\n",
       "      <td>Private</td>\n",
       "      <td>193524</td>\n",
       "      <td>16</td>\n",
       "      <td>Married-civ-spouse</td>\n",
       "      <td>Prof-specialty</td>\n",
       "      <td>Husband</td>\n",
       "      <td>White</td>\n",
       "      <td>Male</td>\n",
       "      <td>0</td>\n",
       "      <td>0</td>\n",
       "      <td>60</td>\n",
       "      <td>United-States</td>\n",
       "    </tr>\n",
       "    <tr>\n",
       "      <th>21</th>\n",
       "      <td>54</td>\n",
       "      <td>Private</td>\n",
       "      <td>302146</td>\n",
       "      <td>9</td>\n",
       "      <td>Separated</td>\n",
       "      <td>Other-service</td>\n",
       "      <td>Unmarried</td>\n",
       "      <td>Black</td>\n",
       "      <td>Female</td>\n",
       "      <td>0</td>\n",
       "      <td>0</td>\n",
       "      <td>20</td>\n",
       "      <td>United-States</td>\n",
       "    </tr>\n",
       "    <tr>\n",
       "      <th>22</th>\n",
       "      <td>35</td>\n",
       "      <td>Federal-gov</td>\n",
       "      <td>76845</td>\n",
       "      <td>5</td>\n",
       "      <td>Married-civ-spouse</td>\n",
       "      <td>Farming-fishing</td>\n",
       "      <td>Husband</td>\n",
       "      <td>Black</td>\n",
       "      <td>Male</td>\n",
       "      <td>0</td>\n",
       "      <td>0</td>\n",
       "      <td>40</td>\n",
       "      <td>United-States</td>\n",
       "    </tr>\n",
       "    <tr>\n",
       "      <th>23</th>\n",
       "      <td>43</td>\n",
       "      <td>Private</td>\n",
       "      <td>117037</td>\n",
       "      <td>7</td>\n",
       "      <td>Married-civ-spouse</td>\n",
       "      <td>Transport-moving</td>\n",
       "      <td>Husband</td>\n",
       "      <td>White</td>\n",
       "      <td>Male</td>\n",
       "      <td>0</td>\n",
       "      <td>2042</td>\n",
       "      <td>40</td>\n",
       "      <td>United-States</td>\n",
       "    </tr>\n",
       "    <tr>\n",
       "      <th>24</th>\n",
       "      <td>59</td>\n",
       "      <td>Private</td>\n",
       "      <td>109015</td>\n",
       "      <td>9</td>\n",
       "      <td>Divorced</td>\n",
       "      <td>Tech-support</td>\n",
       "      <td>Unmarried</td>\n",
       "      <td>White</td>\n",
       "      <td>Female</td>\n",
       "      <td>0</td>\n",
       "      <td>0</td>\n",
       "      <td>40</td>\n",
       "      <td>United-States</td>\n",
       "    </tr>\n",
       "    <tr>\n",
       "      <th>25</th>\n",
       "      <td>56</td>\n",
       "      <td>Local-gov</td>\n",
       "      <td>216851</td>\n",
       "      <td>13</td>\n",
       "      <td>Married-civ-spouse</td>\n",
       "      <td>Tech-support</td>\n",
       "      <td>Husband</td>\n",
       "      <td>White</td>\n",
       "      <td>Male</td>\n",
       "      <td>0</td>\n",
       "      <td>0</td>\n",
       "      <td>40</td>\n",
       "      <td>United-States</td>\n",
       "    </tr>\n",
       "    <tr>\n",
       "      <th>26</th>\n",
       "      <td>19</td>\n",
       "      <td>Private</td>\n",
       "      <td>168294</td>\n",
       "      <td>9</td>\n",
       "      <td>Never-married</td>\n",
       "      <td>Craft-repair</td>\n",
       "      <td>Own-child</td>\n",
       "      <td>White</td>\n",
       "      <td>Male</td>\n",
       "      <td>0</td>\n",
       "      <td>0</td>\n",
       "      <td>40</td>\n",
       "      <td>United-States</td>\n",
       "    </tr>\n",
       "    <tr>\n",
       "      <th>27</th>\n",
       "      <td>54</td>\n",
       "      <td>NaN</td>\n",
       "      <td>180211</td>\n",
       "      <td>10</td>\n",
       "      <td>Married-civ-spouse</td>\n",
       "      <td>NaN</td>\n",
       "      <td>Husband</td>\n",
       "      <td>Asian-Pac-Islander</td>\n",
       "      <td>Male</td>\n",
       "      <td>0</td>\n",
       "      <td>0</td>\n",
       "      <td>60</td>\n",
       "      <td>South</td>\n",
       "    </tr>\n",
       "    <tr>\n",
       "      <th>28</th>\n",
       "      <td>39</td>\n",
       "      <td>Private</td>\n",
       "      <td>367260</td>\n",
       "      <td>9</td>\n",
       "      <td>Divorced</td>\n",
       "      <td>Exec-managerial</td>\n",
       "      <td>Not-in-family</td>\n",
       "      <td>White</td>\n",
       "      <td>Male</td>\n",
       "      <td>0</td>\n",
       "      <td>0</td>\n",
       "      <td>80</td>\n",
       "      <td>United-States</td>\n",
       "    </tr>\n",
       "    <tr>\n",
       "      <th>29</th>\n",
       "      <td>49</td>\n",
       "      <td>Private</td>\n",
       "      <td>193366</td>\n",
       "      <td>9</td>\n",
       "      <td>Married-civ-spouse</td>\n",
       "      <td>Craft-repair</td>\n",
       "      <td>Husband</td>\n",
       "      <td>White</td>\n",
       "      <td>Male</td>\n",
       "      <td>0</td>\n",
       "      <td>0</td>\n",
       "      <td>40</td>\n",
       "      <td>United-States</td>\n",
       "    </tr>\n",
       "    <tr>\n",
       "      <th>...</th>\n",
       "      <td>...</td>\n",
       "      <td>...</td>\n",
       "      <td>...</td>\n",
       "      <td>...</td>\n",
       "      <td>...</td>\n",
       "      <td>...</td>\n",
       "      <td>...</td>\n",
       "      <td>...</td>\n",
       "      <td>...</td>\n",
       "      <td>...</td>\n",
       "      <td>...</td>\n",
       "      <td>...</td>\n",
       "      <td>...</td>\n",
       "    </tr>\n",
       "    <tr>\n",
       "      <th>16251</th>\n",
       "      <td>81</td>\n",
       "      <td>NaN</td>\n",
       "      <td>26711</td>\n",
       "      <td>11</td>\n",
       "      <td>Married-civ-spouse</td>\n",
       "      <td>NaN</td>\n",
       "      <td>Husband</td>\n",
       "      <td>White</td>\n",
       "      <td>Male</td>\n",
       "      <td>2936</td>\n",
       "      <td>0</td>\n",
       "      <td>20</td>\n",
       "      <td>United-States</td>\n",
       "    </tr>\n",
       "    <tr>\n",
       "      <th>16252</th>\n",
       "      <td>60</td>\n",
       "      <td>Private</td>\n",
       "      <td>117909</td>\n",
       "      <td>11</td>\n",
       "      <td>Married-civ-spouse</td>\n",
       "      <td>Prof-specialty</td>\n",
       "      <td>Husband</td>\n",
       "      <td>White</td>\n",
       "      <td>Male</td>\n",
       "      <td>7688</td>\n",
       "      <td>0</td>\n",
       "      <td>40</td>\n",
       "      <td>United-States</td>\n",
       "    </tr>\n",
       "    <tr>\n",
       "      <th>16253</th>\n",
       "      <td>39</td>\n",
       "      <td>Private</td>\n",
       "      <td>229647</td>\n",
       "      <td>13</td>\n",
       "      <td>Never-married</td>\n",
       "      <td>Tech-support</td>\n",
       "      <td>Not-in-family</td>\n",
       "      <td>White</td>\n",
       "      <td>Female</td>\n",
       "      <td>0</td>\n",
       "      <td>1669</td>\n",
       "      <td>40</td>\n",
       "      <td>United-States</td>\n",
       "    </tr>\n",
       "    <tr>\n",
       "      <th>16254</th>\n",
       "      <td>38</td>\n",
       "      <td>Private</td>\n",
       "      <td>149347</td>\n",
       "      <td>14</td>\n",
       "      <td>Married-civ-spouse</td>\n",
       "      <td>Prof-specialty</td>\n",
       "      <td>Husband</td>\n",
       "      <td>White</td>\n",
       "      <td>Male</td>\n",
       "      <td>0</td>\n",
       "      <td>0</td>\n",
       "      <td>50</td>\n",
       "      <td>United-States</td>\n",
       "    </tr>\n",
       "    <tr>\n",
       "      <th>16255</th>\n",
       "      <td>43</td>\n",
       "      <td>Local-gov</td>\n",
       "      <td>23157</td>\n",
       "      <td>14</td>\n",
       "      <td>Married-civ-spouse</td>\n",
       "      <td>Exec-managerial</td>\n",
       "      <td>Husband</td>\n",
       "      <td>White</td>\n",
       "      <td>Male</td>\n",
       "      <td>0</td>\n",
       "      <td>1902</td>\n",
       "      <td>50</td>\n",
       "      <td>United-States</td>\n",
       "    </tr>\n",
       "    <tr>\n",
       "      <th>16256</th>\n",
       "      <td>23</td>\n",
       "      <td>Private</td>\n",
       "      <td>93977</td>\n",
       "      <td>9</td>\n",
       "      <td>Never-married</td>\n",
       "      <td>Machine-op-inspct</td>\n",
       "      <td>Own-child</td>\n",
       "      <td>White</td>\n",
       "      <td>Male</td>\n",
       "      <td>0</td>\n",
       "      <td>0</td>\n",
       "      <td>40</td>\n",
       "      <td>United-States</td>\n",
       "    </tr>\n",
       "    <tr>\n",
       "      <th>16257</th>\n",
       "      <td>73</td>\n",
       "      <td>Self-emp-inc</td>\n",
       "      <td>159691</td>\n",
       "      <td>10</td>\n",
       "      <td>Divorced</td>\n",
       "      <td>Exec-managerial</td>\n",
       "      <td>Not-in-family</td>\n",
       "      <td>White</td>\n",
       "      <td>Female</td>\n",
       "      <td>0</td>\n",
       "      <td>0</td>\n",
       "      <td>40</td>\n",
       "      <td>United-States</td>\n",
       "    </tr>\n",
       "    <tr>\n",
       "      <th>16258</th>\n",
       "      <td>35</td>\n",
       "      <td>Private</td>\n",
       "      <td>176967</td>\n",
       "      <td>10</td>\n",
       "      <td>Married-civ-spouse</td>\n",
       "      <td>Protective-serv</td>\n",
       "      <td>Husband</td>\n",
       "      <td>White</td>\n",
       "      <td>Male</td>\n",
       "      <td>0</td>\n",
       "      <td>0</td>\n",
       "      <td>40</td>\n",
       "      <td>United-States</td>\n",
       "    </tr>\n",
       "    <tr>\n",
       "      <th>16259</th>\n",
       "      <td>66</td>\n",
       "      <td>Private</td>\n",
       "      <td>344436</td>\n",
       "      <td>9</td>\n",
       "      <td>Widowed</td>\n",
       "      <td>Sales</td>\n",
       "      <td>Other-relative</td>\n",
       "      <td>White</td>\n",
       "      <td>Female</td>\n",
       "      <td>0</td>\n",
       "      <td>0</td>\n",
       "      <td>8</td>\n",
       "      <td>United-States</td>\n",
       "    </tr>\n",
       "    <tr>\n",
       "      <th>16260</th>\n",
       "      <td>27</td>\n",
       "      <td>Private</td>\n",
       "      <td>430340</td>\n",
       "      <td>10</td>\n",
       "      <td>Never-married</td>\n",
       "      <td>Sales</td>\n",
       "      <td>Not-in-family</td>\n",
       "      <td>White</td>\n",
       "      <td>Female</td>\n",
       "      <td>0</td>\n",
       "      <td>0</td>\n",
       "      <td>45</td>\n",
       "      <td>United-States</td>\n",
       "    </tr>\n",
       "    <tr>\n",
       "      <th>16261</th>\n",
       "      <td>40</td>\n",
       "      <td>Private</td>\n",
       "      <td>202168</td>\n",
       "      <td>15</td>\n",
       "      <td>Married-civ-spouse</td>\n",
       "      <td>Prof-specialty</td>\n",
       "      <td>Husband</td>\n",
       "      <td>White</td>\n",
       "      <td>Male</td>\n",
       "      <td>15024</td>\n",
       "      <td>0</td>\n",
       "      <td>55</td>\n",
       "      <td>United-States</td>\n",
       "    </tr>\n",
       "    <tr>\n",
       "      <th>16262</th>\n",
       "      <td>51</td>\n",
       "      <td>Private</td>\n",
       "      <td>82720</td>\n",
       "      <td>9</td>\n",
       "      <td>Married-civ-spouse</td>\n",
       "      <td>Craft-repair</td>\n",
       "      <td>Husband</td>\n",
       "      <td>White</td>\n",
       "      <td>Male</td>\n",
       "      <td>0</td>\n",
       "      <td>0</td>\n",
       "      <td>40</td>\n",
       "      <td>United-States</td>\n",
       "    </tr>\n",
       "    <tr>\n",
       "      <th>16263</th>\n",
       "      <td>22</td>\n",
       "      <td>Private</td>\n",
       "      <td>269623</td>\n",
       "      <td>10</td>\n",
       "      <td>Never-married</td>\n",
       "      <td>Craft-repair</td>\n",
       "      <td>Own-child</td>\n",
       "      <td>White</td>\n",
       "      <td>Male</td>\n",
       "      <td>0</td>\n",
       "      <td>0</td>\n",
       "      <td>40</td>\n",
       "      <td>United-States</td>\n",
       "    </tr>\n",
       "    <tr>\n",
       "      <th>16264</th>\n",
       "      <td>64</td>\n",
       "      <td>Self-emp-not-inc</td>\n",
       "      <td>136405</td>\n",
       "      <td>9</td>\n",
       "      <td>Widowed</td>\n",
       "      <td>Farming-fishing</td>\n",
       "      <td>Not-in-family</td>\n",
       "      <td>White</td>\n",
       "      <td>Male</td>\n",
       "      <td>0</td>\n",
       "      <td>0</td>\n",
       "      <td>32</td>\n",
       "      <td>United-States</td>\n",
       "    </tr>\n",
       "    <tr>\n",
       "      <th>16265</th>\n",
       "      <td>50</td>\n",
       "      <td>Local-gov</td>\n",
       "      <td>139347</td>\n",
       "      <td>14</td>\n",
       "      <td>Married-civ-spouse</td>\n",
       "      <td>Prof-specialty</td>\n",
       "      <td>Wife</td>\n",
       "      <td>White</td>\n",
       "      <td>Female</td>\n",
       "      <td>0</td>\n",
       "      <td>0</td>\n",
       "      <td>40</td>\n",
       "      <td>NaN</td>\n",
       "    </tr>\n",
       "    <tr>\n",
       "      <th>16266</th>\n",
       "      <td>55</td>\n",
       "      <td>Private</td>\n",
       "      <td>224655</td>\n",
       "      <td>9</td>\n",
       "      <td>Separated</td>\n",
       "      <td>Priv-house-serv</td>\n",
       "      <td>Not-in-family</td>\n",
       "      <td>White</td>\n",
       "      <td>Female</td>\n",
       "      <td>0</td>\n",
       "      <td>0</td>\n",
       "      <td>32</td>\n",
       "      <td>United-States</td>\n",
       "    </tr>\n",
       "    <tr>\n",
       "      <th>16267</th>\n",
       "      <td>38</td>\n",
       "      <td>Private</td>\n",
       "      <td>247547</td>\n",
       "      <td>11</td>\n",
       "      <td>Never-married</td>\n",
       "      <td>Adm-clerical</td>\n",
       "      <td>Unmarried</td>\n",
       "      <td>Black</td>\n",
       "      <td>Female</td>\n",
       "      <td>0</td>\n",
       "      <td>0</td>\n",
       "      <td>40</td>\n",
       "      <td>United-States</td>\n",
       "    </tr>\n",
       "    <tr>\n",
       "      <th>16268</th>\n",
       "      <td>58</td>\n",
       "      <td>Private</td>\n",
       "      <td>292710</td>\n",
       "      <td>12</td>\n",
       "      <td>Divorced</td>\n",
       "      <td>Prof-specialty</td>\n",
       "      <td>Not-in-family</td>\n",
       "      <td>White</td>\n",
       "      <td>Male</td>\n",
       "      <td>0</td>\n",
       "      <td>0</td>\n",
       "      <td>36</td>\n",
       "      <td>United-States</td>\n",
       "    </tr>\n",
       "    <tr>\n",
       "      <th>16269</th>\n",
       "      <td>32</td>\n",
       "      <td>Private</td>\n",
       "      <td>173449</td>\n",
       "      <td>9</td>\n",
       "      <td>Married-civ-spouse</td>\n",
       "      <td>Handlers-cleaners</td>\n",
       "      <td>Husband</td>\n",
       "      <td>White</td>\n",
       "      <td>Male</td>\n",
       "      <td>0</td>\n",
       "      <td>0</td>\n",
       "      <td>40</td>\n",
       "      <td>United-States</td>\n",
       "    </tr>\n",
       "    <tr>\n",
       "      <th>16270</th>\n",
       "      <td>48</td>\n",
       "      <td>Private</td>\n",
       "      <td>285570</td>\n",
       "      <td>9</td>\n",
       "      <td>Married-civ-spouse</td>\n",
       "      <td>Adm-clerical</td>\n",
       "      <td>Husband</td>\n",
       "      <td>White</td>\n",
       "      <td>Male</td>\n",
       "      <td>0</td>\n",
       "      <td>0</td>\n",
       "      <td>40</td>\n",
       "      <td>United-States</td>\n",
       "    </tr>\n",
       "    <tr>\n",
       "      <th>16271</th>\n",
       "      <td>61</td>\n",
       "      <td>Private</td>\n",
       "      <td>89686</td>\n",
       "      <td>9</td>\n",
       "      <td>Married-civ-spouse</td>\n",
       "      <td>Sales</td>\n",
       "      <td>Husband</td>\n",
       "      <td>White</td>\n",
       "      <td>Male</td>\n",
       "      <td>0</td>\n",
       "      <td>0</td>\n",
       "      <td>48</td>\n",
       "      <td>United-States</td>\n",
       "    </tr>\n",
       "    <tr>\n",
       "      <th>16272</th>\n",
       "      <td>31</td>\n",
       "      <td>Private</td>\n",
       "      <td>440129</td>\n",
       "      <td>9</td>\n",
       "      <td>Married-civ-spouse</td>\n",
       "      <td>Craft-repair</td>\n",
       "      <td>Husband</td>\n",
       "      <td>White</td>\n",
       "      <td>Male</td>\n",
       "      <td>0</td>\n",
       "      <td>0</td>\n",
       "      <td>40</td>\n",
       "      <td>United-States</td>\n",
       "    </tr>\n",
       "    <tr>\n",
       "      <th>16273</th>\n",
       "      <td>25</td>\n",
       "      <td>Private</td>\n",
       "      <td>350977</td>\n",
       "      <td>9</td>\n",
       "      <td>Never-married</td>\n",
       "      <td>Other-service</td>\n",
       "      <td>Own-child</td>\n",
       "      <td>White</td>\n",
       "      <td>Female</td>\n",
       "      <td>0</td>\n",
       "      <td>0</td>\n",
       "      <td>40</td>\n",
       "      <td>United-States</td>\n",
       "    </tr>\n",
       "    <tr>\n",
       "      <th>16274</th>\n",
       "      <td>48</td>\n",
       "      <td>Local-gov</td>\n",
       "      <td>349230</td>\n",
       "      <td>14</td>\n",
       "      <td>Divorced</td>\n",
       "      <td>Other-service</td>\n",
       "      <td>Not-in-family</td>\n",
       "      <td>White</td>\n",
       "      <td>Male</td>\n",
       "      <td>0</td>\n",
       "      <td>0</td>\n",
       "      <td>40</td>\n",
       "      <td>United-States</td>\n",
       "    </tr>\n",
       "    <tr>\n",
       "      <th>16275</th>\n",
       "      <td>33</td>\n",
       "      <td>Private</td>\n",
       "      <td>245211</td>\n",
       "      <td>13</td>\n",
       "      <td>Never-married</td>\n",
       "      <td>Prof-specialty</td>\n",
       "      <td>Own-child</td>\n",
       "      <td>White</td>\n",
       "      <td>Male</td>\n",
       "      <td>0</td>\n",
       "      <td>0</td>\n",
       "      <td>40</td>\n",
       "      <td>United-States</td>\n",
       "    </tr>\n",
       "    <tr>\n",
       "      <th>16276</th>\n",
       "      <td>39</td>\n",
       "      <td>Private</td>\n",
       "      <td>215419</td>\n",
       "      <td>13</td>\n",
       "      <td>Divorced</td>\n",
       "      <td>Prof-specialty</td>\n",
       "      <td>Not-in-family</td>\n",
       "      <td>White</td>\n",
       "      <td>Female</td>\n",
       "      <td>0</td>\n",
       "      <td>0</td>\n",
       "      <td>36</td>\n",
       "      <td>United-States</td>\n",
       "    </tr>\n",
       "    <tr>\n",
       "      <th>16277</th>\n",
       "      <td>64</td>\n",
       "      <td>NaN</td>\n",
       "      <td>321403</td>\n",
       "      <td>9</td>\n",
       "      <td>Widowed</td>\n",
       "      <td>NaN</td>\n",
       "      <td>Other-relative</td>\n",
       "      <td>Black</td>\n",
       "      <td>Male</td>\n",
       "      <td>0</td>\n",
       "      <td>0</td>\n",
       "      <td>40</td>\n",
       "      <td>United-States</td>\n",
       "    </tr>\n",
       "    <tr>\n",
       "      <th>16278</th>\n",
       "      <td>38</td>\n",
       "      <td>Private</td>\n",
       "      <td>374983</td>\n",
       "      <td>13</td>\n",
       "      <td>Married-civ-spouse</td>\n",
       "      <td>Prof-specialty</td>\n",
       "      <td>Husband</td>\n",
       "      <td>White</td>\n",
       "      <td>Male</td>\n",
       "      <td>0</td>\n",
       "      <td>0</td>\n",
       "      <td>50</td>\n",
       "      <td>United-States</td>\n",
       "    </tr>\n",
       "    <tr>\n",
       "      <th>16279</th>\n",
       "      <td>44</td>\n",
       "      <td>Private</td>\n",
       "      <td>83891</td>\n",
       "      <td>13</td>\n",
       "      <td>Divorced</td>\n",
       "      <td>Adm-clerical</td>\n",
       "      <td>Own-child</td>\n",
       "      <td>Asian-Pac-Islander</td>\n",
       "      <td>Male</td>\n",
       "      <td>5455</td>\n",
       "      <td>0</td>\n",
       "      <td>40</td>\n",
       "      <td>United-States</td>\n",
       "    </tr>\n",
       "    <tr>\n",
       "      <th>16280</th>\n",
       "      <td>35</td>\n",
       "      <td>Self-emp-inc</td>\n",
       "      <td>182148</td>\n",
       "      <td>13</td>\n",
       "      <td>Married-civ-spouse</td>\n",
       "      <td>Exec-managerial</td>\n",
       "      <td>Husband</td>\n",
       "      <td>White</td>\n",
       "      <td>Male</td>\n",
       "      <td>0</td>\n",
       "      <td>0</td>\n",
       "      <td>60</td>\n",
       "      <td>United-States</td>\n",
       "    </tr>\n",
       "  </tbody>\n",
       "</table>\n",
       "<p>48842 rows × 13 columns</p>\n",
       "</div>"
      ],
      "text/plain": [
       "       Age         Workclass  fnlwgt  Education-Num         Martial Status  \\\n",
       "0       39         State-gov   77516             13          Never-married   \n",
       "1       50  Self-emp-not-inc   83311             13     Married-civ-spouse   \n",
       "2       38           Private  215646              9               Divorced   \n",
       "3       53           Private  234721              7     Married-civ-spouse   \n",
       "4       28           Private  338409             13     Married-civ-spouse   \n",
       "5       37           Private  284582             14     Married-civ-spouse   \n",
       "6       49           Private  160187              5  Married-spouse-absent   \n",
       "7       52  Self-emp-not-inc  209642              9     Married-civ-spouse   \n",
       "8       31           Private   45781             14          Never-married   \n",
       "9       42           Private  159449             13     Married-civ-spouse   \n",
       "10      37           Private  280464             10     Married-civ-spouse   \n",
       "11      30         State-gov  141297             13     Married-civ-spouse   \n",
       "12      23           Private  122272             13          Never-married   \n",
       "13      32           Private  205019             12          Never-married   \n",
       "14      40           Private  121772             11     Married-civ-spouse   \n",
       "15      34           Private  245487              4     Married-civ-spouse   \n",
       "16      25  Self-emp-not-inc  176756              9          Never-married   \n",
       "17      32           Private  186824              9          Never-married   \n",
       "18      38           Private   28887              7     Married-civ-spouse   \n",
       "19      43  Self-emp-not-inc  292175             14               Divorced   \n",
       "20      40           Private  193524             16     Married-civ-spouse   \n",
       "21      54           Private  302146              9              Separated   \n",
       "22      35       Federal-gov   76845              5     Married-civ-spouse   \n",
       "23      43           Private  117037              7     Married-civ-spouse   \n",
       "24      59           Private  109015              9               Divorced   \n",
       "25      56         Local-gov  216851             13     Married-civ-spouse   \n",
       "26      19           Private  168294              9          Never-married   \n",
       "27      54               NaN  180211             10     Married-civ-spouse   \n",
       "28      39           Private  367260              9               Divorced   \n",
       "29      49           Private  193366              9     Married-civ-spouse   \n",
       "...    ...               ...     ...            ...                    ...   \n",
       "16251   81               NaN   26711             11     Married-civ-spouse   \n",
       "16252   60           Private  117909             11     Married-civ-spouse   \n",
       "16253   39           Private  229647             13          Never-married   \n",
       "16254   38           Private  149347             14     Married-civ-spouse   \n",
       "16255   43         Local-gov   23157             14     Married-civ-spouse   \n",
       "16256   23           Private   93977              9          Never-married   \n",
       "16257   73      Self-emp-inc  159691             10               Divorced   \n",
       "16258   35           Private  176967             10     Married-civ-spouse   \n",
       "16259   66           Private  344436              9                Widowed   \n",
       "16260   27           Private  430340             10          Never-married   \n",
       "16261   40           Private  202168             15     Married-civ-spouse   \n",
       "16262   51           Private   82720              9     Married-civ-spouse   \n",
       "16263   22           Private  269623             10          Never-married   \n",
       "16264   64  Self-emp-not-inc  136405              9                Widowed   \n",
       "16265   50         Local-gov  139347             14     Married-civ-spouse   \n",
       "16266   55           Private  224655              9              Separated   \n",
       "16267   38           Private  247547             11          Never-married   \n",
       "16268   58           Private  292710             12               Divorced   \n",
       "16269   32           Private  173449              9     Married-civ-spouse   \n",
       "16270   48           Private  285570              9     Married-civ-spouse   \n",
       "16271   61           Private   89686              9     Married-civ-spouse   \n",
       "16272   31           Private  440129              9     Married-civ-spouse   \n",
       "16273   25           Private  350977              9          Never-married   \n",
       "16274   48         Local-gov  349230             14               Divorced   \n",
       "16275   33           Private  245211             13          Never-married   \n",
       "16276   39           Private  215419             13               Divorced   \n",
       "16277   64               NaN  321403              9                Widowed   \n",
       "16278   38           Private  374983             13     Married-civ-spouse   \n",
       "16279   44           Private   83891             13               Divorced   \n",
       "16280   35      Self-emp-inc  182148             13     Married-civ-spouse   \n",
       "\n",
       "              Occupation    Relationship                Race     Sex  \\\n",
       "0           Adm-clerical   Not-in-family               White    Male   \n",
       "1        Exec-managerial         Husband               White    Male   \n",
       "2      Handlers-cleaners   Not-in-family               White    Male   \n",
       "3      Handlers-cleaners         Husband               Black    Male   \n",
       "4         Prof-specialty            Wife               Black  Female   \n",
       "5        Exec-managerial            Wife               White  Female   \n",
       "6          Other-service   Not-in-family               Black  Female   \n",
       "7        Exec-managerial         Husband               White    Male   \n",
       "8         Prof-specialty   Not-in-family               White  Female   \n",
       "9        Exec-managerial         Husband               White    Male   \n",
       "10       Exec-managerial         Husband               Black    Male   \n",
       "11        Prof-specialty         Husband  Asian-Pac-Islander    Male   \n",
       "12          Adm-clerical       Own-child               White  Female   \n",
       "13                 Sales   Not-in-family               Black    Male   \n",
       "14          Craft-repair         Husband  Asian-Pac-Islander    Male   \n",
       "15      Transport-moving         Husband  Amer-Indian-Eskimo    Male   \n",
       "16       Farming-fishing       Own-child               White    Male   \n",
       "17     Machine-op-inspct       Unmarried               White    Male   \n",
       "18                 Sales         Husband               White    Male   \n",
       "19       Exec-managerial       Unmarried               White  Female   \n",
       "20        Prof-specialty         Husband               White    Male   \n",
       "21         Other-service       Unmarried               Black  Female   \n",
       "22       Farming-fishing         Husband               Black    Male   \n",
       "23      Transport-moving         Husband               White    Male   \n",
       "24          Tech-support       Unmarried               White  Female   \n",
       "25          Tech-support         Husband               White    Male   \n",
       "26          Craft-repair       Own-child               White    Male   \n",
       "27                   NaN         Husband  Asian-Pac-Islander    Male   \n",
       "28       Exec-managerial   Not-in-family               White    Male   \n",
       "29          Craft-repair         Husband               White    Male   \n",
       "...                  ...             ...                 ...     ...   \n",
       "16251                NaN         Husband               White    Male   \n",
       "16252     Prof-specialty         Husband               White    Male   \n",
       "16253       Tech-support   Not-in-family               White  Female   \n",
       "16254     Prof-specialty         Husband               White    Male   \n",
       "16255    Exec-managerial         Husband               White    Male   \n",
       "16256  Machine-op-inspct       Own-child               White    Male   \n",
       "16257    Exec-managerial   Not-in-family               White  Female   \n",
       "16258    Protective-serv         Husband               White    Male   \n",
       "16259              Sales  Other-relative               White  Female   \n",
       "16260              Sales   Not-in-family               White  Female   \n",
       "16261     Prof-specialty         Husband               White    Male   \n",
       "16262       Craft-repair         Husband               White    Male   \n",
       "16263       Craft-repair       Own-child               White    Male   \n",
       "16264    Farming-fishing   Not-in-family               White    Male   \n",
       "16265     Prof-specialty            Wife               White  Female   \n",
       "16266    Priv-house-serv   Not-in-family               White  Female   \n",
       "16267       Adm-clerical       Unmarried               Black  Female   \n",
       "16268     Prof-specialty   Not-in-family               White    Male   \n",
       "16269  Handlers-cleaners         Husband               White    Male   \n",
       "16270       Adm-clerical         Husband               White    Male   \n",
       "16271              Sales         Husband               White    Male   \n",
       "16272       Craft-repair         Husband               White    Male   \n",
       "16273      Other-service       Own-child               White  Female   \n",
       "16274      Other-service   Not-in-family               White    Male   \n",
       "16275     Prof-specialty       Own-child               White    Male   \n",
       "16276     Prof-specialty   Not-in-family               White  Female   \n",
       "16277                NaN  Other-relative               Black    Male   \n",
       "16278     Prof-specialty         Husband               White    Male   \n",
       "16279       Adm-clerical       Own-child  Asian-Pac-Islander    Male   \n",
       "16280    Exec-managerial         Husband               White    Male   \n",
       "\n",
       "       Capital Gain  Capital Loss  Hours per week        Country  \n",
       "0              2174             0              40  United-States  \n",
       "1                 0             0              13  United-States  \n",
       "2                 0             0              40  United-States  \n",
       "3                 0             0              40  United-States  \n",
       "4                 0             0              40           Cuba  \n",
       "5                 0             0              40  United-States  \n",
       "6                 0             0              16        Jamaica  \n",
       "7                 0             0              45  United-States  \n",
       "8             14084             0              50  United-States  \n",
       "9              5178             0              40  United-States  \n",
       "10                0             0              80  United-States  \n",
       "11                0             0              40          India  \n",
       "12                0             0              30  United-States  \n",
       "13                0             0              50  United-States  \n",
       "14                0             0              40            NaN  \n",
       "15                0             0              45         Mexico  \n",
       "16                0             0              35  United-States  \n",
       "17                0             0              40  United-States  \n",
       "18                0             0              50  United-States  \n",
       "19                0             0              45  United-States  \n",
       "20                0             0              60  United-States  \n",
       "21                0             0              20  United-States  \n",
       "22                0             0              40  United-States  \n",
       "23                0          2042              40  United-States  \n",
       "24                0             0              40  United-States  \n",
       "25                0             0              40  United-States  \n",
       "26                0             0              40  United-States  \n",
       "27                0             0              60          South  \n",
       "28                0             0              80  United-States  \n",
       "29                0             0              40  United-States  \n",
       "...             ...           ...             ...            ...  \n",
       "16251          2936             0              20  United-States  \n",
       "16252          7688             0              40  United-States  \n",
       "16253             0          1669              40  United-States  \n",
       "16254             0             0              50  United-States  \n",
       "16255             0          1902              50  United-States  \n",
       "16256             0             0              40  United-States  \n",
       "16257             0             0              40  United-States  \n",
       "16258             0             0              40  United-States  \n",
       "16259             0             0               8  United-States  \n",
       "16260             0             0              45  United-States  \n",
       "16261         15024             0              55  United-States  \n",
       "16262             0             0              40  United-States  \n",
       "16263             0             0              40  United-States  \n",
       "16264             0             0              32  United-States  \n",
       "16265             0             0              40            NaN  \n",
       "16266             0             0              32  United-States  \n",
       "16267             0             0              40  United-States  \n",
       "16268             0             0              36  United-States  \n",
       "16269             0             0              40  United-States  \n",
       "16270             0             0              40  United-States  \n",
       "16271             0             0              48  United-States  \n",
       "16272             0             0              40  United-States  \n",
       "16273             0             0              40  United-States  \n",
       "16274             0             0              40  United-States  \n",
       "16275             0             0              40  United-States  \n",
       "16276             0             0              36  United-States  \n",
       "16277             0             0              40  United-States  \n",
       "16278             0             0              50  United-States  \n",
       "16279          5455             0              40  United-States  \n",
       "16280             0             0              60  United-States  \n",
       "\n",
       "[48842 rows x 13 columns]"
      ]
     },
     "execution_count": 31,
     "metadata": {},
     "output_type": "execute_result"
    }
   ],
   "source": [
    "original"
   ]
  },
  {
   "cell_type": "code",
   "execution_count": 32,
   "metadata": {
    "collapsed": true
   },
   "outputs": [],
   "source": [
    "X = train_data.values\n",
    "y = train_labels.values"
   ]
  },
  {
   "cell_type": "code",
   "execution_count": 33,
   "metadata": {},
   "outputs": [
    {
     "data": {
      "image/png": "[encoded data removed]",
      "text/plain": [
       "<matplotlib.figure.Figure at 0x7f327a67db50>"
      ]
     },
     "metadata": {},
     "output_type": "display_data"
    }
   ],
   "source": [
    "objective = lambda w: likelihood(w, X, y)\n",
    "gradient = lambda w: log_likelihood_gradient(w, X, y)\n",
    "hessian = lambda w: log_likelihood_hessian(w, X, y)\n",
    "init = np.zeros(X.shape[1])\n",
    "\n",
    "cls = linear_model.LogisticRegression()\n",
    "cls.fit(X, y)\n",
    "weights = np.reshape(cls.coef_, cls.coef_.shape[1])\n",
    "baseline = log_likelihood(weights, X, y)\n",
    "\n",
    "ws_newton = newton_method(init, np.ones(10), gradient, hessian)\n",
    "error_plot([log_likelihood(w, X, y) for w in ws_newton])\n",
    "plt.plot(range(len(ws_newton)), [baseline]*len(ws_newton),\n",
    "        label='sklearn', **kwargs)\n",
    "_ = plt.legend()"
   ]
  },
  {
   "cell_type": "code",
   "execution_count": 34,
   "metadata": {},
   "outputs": [
    {
     "data": {
      "image/png": "[encoded data removed]",
      "text/plain": [
       "<matplotlib.figure.Figure at 0x7f3285b27d90>"
      ]
     },
     "metadata": {},
     "output_type": "display_data"
    }
   ],
   "source": [
    "def line_search(x, d):\n",
    "    return gss(lambda step: log_likelihood(x+step*d, X, y), -1, 1, tol=0.1)\n",
    "\n",
    "ws_bfgs = bfgs(init, gradient, hessian, line_search, 10)\n",
    "error_plot([log_likelihood(w, X, y) for w in ws_bfgs])\n",
    "plt.plot(range(len(ws_bfgs)), [baseline]*len(ws_bfgs),\n",
    "        label='sklearn', **kwargs)\n",
    "_ = plt.legend()"
   ]
  },
  {
   "cell_type": "markdown",
   "metadata": {},
   "source": [
    "### Timing comparison"
   ]
  },
  {
   "cell_type": "code",
   "execution_count": 35,
   "metadata": {},
   "outputs": [
    {
     "data": {
      "text/plain": [
       "1.6104111671447754"
      ]
     },
     "execution_count": 35,
     "metadata": {},
     "output_type": "execute_result"
    }
   ],
   "source": [
    "timeit(lambda: linear_model.LogisticRegression().fit(X, y), number=1)"
   ]
  },
  {
   "cell_type": "code",
   "execution_count": 36,
   "metadata": {},
   "outputs": [
    {
     "data": {
      "text/plain": [
       "6.190078973770142"
      ]
     },
     "execution_count": 36,
     "metadata": {},
     "output_type": "execute_result"
    }
   ],
   "source": [
    "timeit(lambda: bfgs(init, gradient, hessian, line_search, 10), number=1)"
   ]
  },
  {
   "cell_type": "code",
   "execution_count": 37,
   "metadata": {},
   "outputs": [
    {
     "data": {
      "text/plain": [
       "1.7400920391082764"
      ]
     },
     "execution_count": 37,
     "metadata": {},
     "output_type": "execute_result"
    }
   ],
   "source": [
    "timeit(lambda: gradient_descent(init, np.ones(200), gradient), number=1)"
   ]
  },
  {
   "cell_type": "markdown",
   "metadata": {},
   "source": [
    "### Accuracy on the test set"
   ]
  },
  {
   "cell_type": "code",
   "execution_count": 38,
   "metadata": {
    "collapsed": true
   },
   "outputs": [],
   "source": [
    "Xtest = test_data.values\n",
    "ytest = test_labels.values"
   ]
  },
  {
   "cell_type": "code",
   "execution_count": 39,
   "metadata": {
    "collapsed": true
   },
   "outputs": [],
   "source": [
    "def accuracy(weights):\n",
    "    predictions = logistic_model(weights, Xtest)\n",
    "    return np.mean((predictions > 0.5).astype(np.float) == ytest)"
   ]
  },
  {
   "cell_type": "code",
   "execution_count": 40,
   "metadata": {},
   "outputs": [
    {
     "data": {
      "text/plain": [
       "0.82636201707511825"
      ]
     },
     "execution_count": 40,
     "metadata": {},
     "output_type": "execute_result"
    }
   ],
   "source": [
    "ws_gd = gradient_descent(init, np.ones(500), gradient)\n",
    "accuracy(ws_gd[-1])"
   ]
  },
  {
   "cell_type": "code",
   "execution_count": 41,
   "metadata": {},
   "outputs": [
    {
     "data": {
      "text/plain": [
       "0.83139856274184631"
      ]
     },
     "execution_count": 41,
     "metadata": {},
     "output_type": "execute_result"
    }
   ],
   "source": [
    "ws_bfgs = bfgs(init, gradient, hessian, line_search, 20)\n",
    "accuracy(ws_bfgs[-1])"
   ]
  },
  {
   "cell_type": "code",
   "execution_count": 42,
   "metadata": {},
   "outputs": [
    {
     "data": {
      "text/plain": [
       "0.8308457711442786"
      ]
     },
     "execution_count": 42,
     "metadata": {},
     "output_type": "execute_result"
    }
   ],
   "source": [
    "cls = linear_model.LogisticRegression(C=1, fit_intercept=False)\n",
    "cls.fit(X, y)\n",
    "cls.score(Xtest, ytest)\n",
    "weights = np.reshape(cls.coef_, cls.coef_.shape[1])\n",
    "accuracy(weights)"
   ]
  },
  {
   "cell_type": "markdown",
   "metadata": {},
   "source": [
    "We see that our toy implementation of BFGS is actually fairly competitive. So is gradient descent which reaches good test performance with an optimized constant step size."
   ]
  },
  {
   "cell_type": "markdown",
   "metadata": {},
   "source": [
    "## That's all. Thanks."
   ]
  }
 ],
 "metadata": {
  "kernelspec": {
   "display_name": "Python 2",
   "language": "python",
   "name": "python2"
  },
  "language_info": {
   "codemirror_mode": {
    "name": "ipython",
    "version": 2
   },
   "file_extension": ".py",
   "mimetype": "text/x-python",
   "name": "python",
   "nbconvert_exporter": "python",
   "pygments_lexer": "ipython2",
   "version": "2.7.13"
  }
 },
 "nbformat": 4,
 "nbformat_minor": 1
}
